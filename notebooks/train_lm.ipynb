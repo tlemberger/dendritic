{
 "cells": [
  {
   "cell_type": "code",
   "execution_count": null,
   "metadata": {},
   "outputs": [],
   "source": [
    "from pathlib import Path\n",
    "APP = \"/app\" if Path(\"/app\").exists() else \"../app\"\n",
    "DATA = \"/data\" if Path(\"/data\").exists() else \"../data\"\n",
    "MODEL = \"/model\" if Path(\"/model\").exists() else \"../model\"\n",
    "RUNS = \"/runs\" if Path(\"/runs\").exists() else \"../runs\"\n",
    "(APP, DATA, RUNS)"
   ]
  },
  {
   "cell_type": "code",
   "execution_count": null,
   "metadata": {},
   "outputs": [],
   "source": [
    "import sys\n",
    "\n",
    "app = APP\n",
    "if app not in sys.path:\n",
    "    sys.path.append(app)\n",
    "sys.path"
   ]
  },
  {
   "cell_type": "code",
   "execution_count": null,
   "metadata": {},
   "outputs": [],
   "source": [
    "!pwd"
   ]
  },
  {
   "cell_type": "code",
   "execution_count": null,
   "metadata": {},
   "outputs": [],
   "source": [
    "from datasets import load_dataset\n",
    "\n",
    "dataset = load_dataset(\n",
    "    \"text\",\n",
    "    data_dir=f\"{DATA}/text/emboj_abstracts/\",\n",
    "    data_files={'train': 'train/examples.txt', 'test': 'test/examples.txt'},\n",
    ")\n",
    "dataset"
   ]
  },
  {
   "cell_type": "code",
   "execution_count": null,
   "metadata": {},
   "outputs": [],
   "source": [
    "MODEL_NAME = \"roberta-base\""
   ]
  },
  {
   "cell_type": "code",
   "execution_count": null,
   "metadata": {},
   "outputs": [],
   "source": [
    "from transformers import AutoTokenizer\n",
    "tokenizer = AutoTokenizer.from_pretrained(MODEL_NAME)\n",
    "print(f\"tokenizer vocab size: {tokenizer.vocab_size}\")\n",
    "print(f\"max length: {tokenizer.max_model_input_sizes[MODEL_NAME]}\")"
   ]
  },
  {
   "cell_type": "code",
   "execution_count": null,
   "metadata": {},
   "outputs": [],
   "source": [
    "MAX_LENGTH_HERE = 32"
   ]
  },
  {
   "cell_type": "code",
   "execution_count": null,
   "metadata": {},
   "outputs": [],
   "source": [
    "# tokenize the dataset\n",
    "def tokenization(examples):\n",
    "    return tokenizer(\n",
    "    examples[\"text\"],\n",
    "        max_length=MAX_LENGTH_HERE, #tokenizer.max_model_input_sizes[MODEL_NAME],\n",
    "        truncation=True,\n",
    "        return_special_tokens_mask=True,\n",
    "    )\n",
    "tokenized = dataset.map(tokenization, batched=True)\n",
    "tokenized"
   ]
  },
  {
   "cell_type": "code",
   "execution_count": null,
   "metadata": {},
   "outputs": [],
   "source": [
    "tokenized = tokenized.remove_columns([\"text\"])\n",
    "tokenized"
   ]
  },
  {
   "cell_type": "code",
   "execution_count": null,
   "metadata": {},
   "outputs": [],
   "source": [
    "from transformers import DataCollatorForLanguageModeling\n",
    "data_collator = DataCollatorForLanguageModeling(\n",
    "    tokenizer,\n",
    "    mlm=True,\n",
    "    mlm_probability=0.15\n",
    ")"
   ]
  },
  {
   "cell_type": "code",
   "execution_count": null,
   "metadata": {},
   "outputs": [],
   "source": [
    "from transformers import (\n",
    "    # RobertaForMaskedLM,\n",
    "    AutoConfig\n",
    ")\n",
    "from src.models.modeling_dendroberta import RobertaForMaskedLM as DendroRobertaForMaskedLM"
   ]
  },
  {
   "cell_type": "code",
   "execution_count": null,
   "metadata": {},
   "outputs": [],
   "source": [
    "config = AutoConfig.from_pretrained(MODEL_NAME)\n",
    "config"
   ]
  },
  {
   "cell_type": "code",
   "execution_count": null,
   "metadata": {},
   "outputs": [],
   "source": [
    "# mini roberta\n",
    "config.num_hidden_layers = 2\n",
    "config.intermediate_size = 100\n",
    "config.num_attention_heads = 2\n",
    "config.max_position_embeddings = MAX_LENGTH_HERE + 2"
   ]
  },
  {
   "cell_type": "code",
   "execution_count": null,
   "metadata": {},
   "outputs": [],
   "source": [
    "model = DendroRobertaForMaskedLM(config=config)  # DendroRobertaForMaskedLM(config=config)  # RobertaForMaskedLM(config=config)\n",
    "ROBERTA = \"dendroberta\"\n",
    "model_size = sum(t.numel() for t in model.parameters())\n",
    "print(f\"Model size: {model_size/1000**2:.1f}M parameters\")"
   ]
  },
  {
   "cell_type": "code",
   "execution_count": null,
   "metadata": {},
   "outputs": [],
   "source": [
    "from transformers import Trainer, TrainingArguments\n",
    "from datetime import datetime\n",
    "\n",
    "args = TrainingArguments(\n",
    "    output_dir=MODEL,\n",
    "    per_device_train_batch_size=2,\n",
    "    per_device_eval_batch_size=2,\n",
    "    evaluation_strategy=\"steps\",\n",
    "    eval_steps=100,\n",
    "    prediction_loss_only=True,\n",
    "    logging_steps=1000,\n",
    "    gradient_accumulation_steps=4,\n",
    "    num_train_epochs=5,\n",
    "    weight_decay=0.1,\n",
    "    warmup_steps=1_000,\n",
    "    lr_scheduler_type=\"cosine\",\n",
    "    learning_rate=5e-4,\n",
    "    save_steps=5_000,\n",
    "    fp16=False,\n",
    "    push_to_hub=False,\n",
    "    logging_dir = f\"{RUNS}/lm-{ROBERTA}-{datetime.now().isoformat().replace(':','-')}\"\n",
    ")"
   ]
  },
  {
   "cell_type": "code",
   "execution_count": null,
   "metadata": {},
   "outputs": [],
   "source": [
    "trainer = Trainer(\n",
    "    model=model,\n",
    "    tokenizer=tokenizer,\n",
    "    args=args,\n",
    "    data_collator=data_collator,\n",
    "    train_dataset=tokenized['train'],\n",
    "    eval_dataset=tokenized[\"test\"],\n",
    ")"
   ]
  },
  {
   "cell_type": "code",
   "execution_count": null,
   "metadata": {},
   "outputs": [],
   "source": [
    "trainer.train()"
   ]
  },
  {
   "cell_type": "code",
   "execution_count": null,
   "metadata": {},
   "outputs": [],
   "source": [
    "# Load the TensorBoard notebook extension\n",
    "%load_ext tensorboard"
   ]
  },
  {
   "cell_type": "code",
   "execution_count": null,
   "metadata": {},
   "outputs": [],
   "source": [
    "# launch tensorboard\n",
    "%tensorboard --logdir /runs"
   ]
  },
  {
   "cell_type": "markdown",
   "metadata": {},
   "source": [
    "DendRoberta: red, Robdert: blue"
   ]
  },
  {
   "attachments": {
    "c7a65dd3-9f7c-490f-9b20-87404168de4c.png": {
     "image/png": "[encoded data removed]"
    }
   },
   "cell_type": "markdown",
   "metadata": {},
   "source": [
    "![image.png](attachment:c7a65dd3-9f7c-490f-9b20-87404168de4c.png)"
   ]
  },
  {
   "cell_type": "code",
   "execution_count": null,
   "metadata": {},
   "outputs": [],
   "source": []
  }
 ],
 "metadata": {
  "kernelspec": {
   "display_name": "Python 3 (ipykernel)",
   "language": "python",
   "name": "python3"
  },
  "language_info": {
   "codemirror_mode": {
    "name": "ipython",
    "version": 3
   },
   "file_extension": ".py",
   "mimetype": "text/x-python",
   "name": "python",
   "nbconvert_exporter": "python",
   "pygments_lexer": "ipython3",
   "version": "3.11.5"
  }
 },
 "nbformat": 4,
 "nbformat_minor": 4
}
